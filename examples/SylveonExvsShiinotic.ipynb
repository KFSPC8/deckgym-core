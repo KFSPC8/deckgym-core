{
 "cells": [
  {
   "cell_type": "code",
   "execution_count": null,
   "id": "86ccf180-3964-4d66-b865-372283d2eb25",
   "metadata": {},
   "outputs": [],
   "source": [
    "import pandas as pd"
   ]
  },
  {
   "cell_type": "markdown",
   "id": "fc30626b-d15c-4ec3-8dab-e1d84a7fcea0",
   "metadata": {},
   "source": [
    "# First Seen In Play\n",
    "We will look at the min_turn (fastest turn) where Solgelo Ex is in play (with rare candy). \n",
    "Then we will make a Histogram of these fastest turns."
   ]
  },
  {
   "cell_type": "code",
   "execution_count": null,
   "id": "9aef7f7b-b32c-4270-8a65-b1a344bff268",
   "metadata": {},
   "outputs": [],
   "source": [
    "fs_df = pd.read_csv('first_turn_seen.csv')\n",
    "fs_df"
   ]
  },
  {
   "cell_type": "code",
   "execution_count": null,
   "id": "2a5932b6-45f5-4c42-a970-64d3c6722641",
   "metadata": {},
   "outputs": [],
   "source": [
    "# https://www.deckgym.com/builder?name=Solgaleo%20Sylveon&energy=Grass&cards=A3086_A3171_A3171_A3239_A3239_A3b034_A3b034_A3b055_A3b055_A2147_A2147_A2148_A2b111_A2b111_A3144_A3144_P-A001_P-A001_P-A007_P-A007\n",
    "solgaleo_sylveon_df = fs_df[(fs_df['actor'] == 1) & (fs_df['card_name'] == 'Solgaleo ex')]\n",
    "# https://www.deckgym.com/builder?name=Solgaleo%20Shiinotic&energy=Grass&cards=A3086_A3157_A3157_A3171_A3171_A3239_A3239_A3a027_A3a027_A2147_A2147_A2148_A2b111_A2b111_A3144_A3144_P-A001_P-A001_P-A007_P-A007\n",
    "solgaleo_shiinotic_df = fs_df[(fs_df['actor'] == 0) & (fs_df['card_name'] == 'Solgaleo ex')]\n",
    "assert len(solgaleo_sylveon_df['game_id'].unique()) == solgaleo_sylveon_df.shape[0]\n",
    "assert len(solgaleo_shiinotic_df['game_id'].unique()) == solgaleo_shiinotic_df.shape[0]\n",
    "solgaleo_sylveon_df"
   ]
  },
  {
   "cell_type": "code",
   "execution_count": null,
   "id": "b49cb8f7-6681-4c26-8798-e843b2964c35",
   "metadata": {},
   "outputs": [],
   "source": [
    "solgaleo_sylveon_distribution_df = solgaleo_sylveon_df['min_turn'].value_counts().sort_index()\n",
    "solgaleo_sylveon_distribution_df = (solgaleo_sylveon_distribution_df.cumsum() * 100 / solgaleo_sylveon_distribution_df.sum()).round(2)\n",
    "solgaleo_sylveon_distribution_df.to_csv('solgaleo_sylveon_distribution.csv')\n",
    "solgaleo_sylveon_distribution_df"
   ]
  },
  {
   "cell_type": "code",
   "execution_count": null,
   "id": "128fc7d3-a388-42fd-86e9-99f9ad3c41b2",
   "metadata": {},
   "outputs": [],
   "source": [
    "solgaleo_shiinotic_distribution_df = solgaleo_shiinotic_df['min_turn'].value_counts().sort_index()\n",
    "solgaleo_shiinotic_distribution_df = (solgaleo_shiinotic_distribution_df.cumsum() * 100 / solgaleo_shiinotic_distribution_df.sum()).round(2)\n",
    "solgaleo_shiinotic_distribution_df.to_csv('solgaleo_shiinotic_distribution.csv')\n",
    "solgaleo_shiinotic_distribution_df"
   ]
  },
  {
   "cell_type": "code",
   "execution_count": null,
   "id": "e363323c-a0bc-4597-aa62-bcf180d70885",
   "metadata": {},
   "outputs": [],
   "source": [
    "solgaleo_sylveon_df['min_turn'].mean(), solgaleo_shiinotic_df['min_turn'].mean()"
   ]
  },
  {
   "cell_type": "markdown",
   "id": "176659a0-66bb-4fda-be15-f32b73c6dbf9",
   "metadata": {},
   "source": [
    "# DeckOut Speed\n",
    "We will see whats the distribution of the turn the user decks out. Then we'll get the first time we see 0."
   ]
  },
  {
   "cell_type": "code",
   "execution_count": null,
   "id": "6078661b-5668-4365-ac0b-82ca6ff8a1dc",
   "metadata": {},
   "outputs": [],
   "source": [
    "ds_df = pd.read_csv('deck_sizes.csv')\n",
    "ds_df"
   ]
  },
  {
   "cell_type": "code",
   "execution_count": null,
   "id": "79ad2d19-0c14-43cb-86ba-10623dfffba8",
   "metadata": {},
   "outputs": [],
   "source": [
    "sylveon_ds_df = ds_df[ds_df['actor'] == 0]\n",
    "sylveon_avg_decksize_per_turn = sylveon_ds_df.groupby(['turn'])['deck_size'].mean().round(2)\n",
    "sylveon_avg_decksize_per_turn.to_csv('sylveon_avg_decksize_per_turn.csv')\n",
    "sylveon_avg_decksize_per_turn"
   ]
  },
  {
   "cell_type": "code",
   "execution_count": null,
   "id": "3bf0616b-cd94-4032-a383-86fb2d73fbb9",
   "metadata": {},
   "outputs": [],
   "source": [
    "shiinotic_ds_df = ds_df[ds_df['actor'] == 1]\n",
    "shiinotic_avg_decksize_per_turn = shiinotic_ds_df.groupby(['turn'])['deck_size'].mean().round(2)\n",
    "shiinotic_avg_decksize_per_turn.to_csv('shiinotic_avg_decksize_per_turn.csv')\n",
    "shiinotic_avg_decksize_per_turn"
   ]
  }
 ],
 "metadata": {
  "kernelspec": {
   "display_name": "Python 3 (ipykernel)",
   "language": "python",
   "name": "python3"
  },
  "language_info": {
   "codemirror_mode": {
    "name": "ipython",
    "version": 3
   },
   "file_extension": ".py",
   "mimetype": "text/x-python",
   "name": "python",
   "nbconvert_exporter": "python",
   "pygments_lexer": "ipython3",
   "version": "3.11.12"
  }
 },
 "nbformat": 4,
 "nbformat_minor": 5
}
